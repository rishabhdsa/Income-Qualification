{
  "nbformat": 4,
  "nbformat_minor": 0,
  "metadata": {
    "colab": {
      "name": "Income Qualification.ipynb",
      "provenance": []
    },
    "kernelspec": {
      "name": "python3",
      "display_name": "Python 3"
    },
    "language_info": {
      "name": "python"
    }
  },
  "cells": [
    {
      "cell_type": "markdown",
      "source": [
        "### Project 2. IncomeQalification\n"
      ],
      "metadata": {
        "id": "Kgoqof7Gh11X"
      }
    },
    {
      "cell_type": "code",
      "source": [
        "#inporting required libraries\n",
        "import pandas as pd\n",
        "import numpy as np\n",
        "import matplotlib.pyplot as plt\n",
        "import seaborn as sns\n",
        "%matplotlib inline"
      ],
      "metadata": {
        "id": "pntp1P7miF7C"
      },
      "execution_count": 2,
      "outputs": []
    },
    {
      "cell_type": "code",
      "source": [
        "# importing the datasets for both train and test\n",
        "df_train=pd.read_csv('/content/train.csv')\n",
        "df_test=pd.read_csv('/content/test.csv')\n"
      ],
      "metadata": {
        "id": "4UIDijRciekP"
      },
      "execution_count": 3,
      "outputs": []
    },
    {
      "cell_type": "code",
      "source": [
        "df_train.head()"
      ],
      "metadata": {
        "colab": {
          "base_uri": "https://localhost:8080/",
          "height": 300
        },
        "id": "IE9D6h9nlQ1v",
        "outputId": "29261b47-a0e9-42fd-920d-a720ef6373ce"
      },
      "execution_count": 6,
      "outputs": [
        {
          "output_type": "execute_result",
          "data": {
            "text/plain": [
              "             Id      v2a1  hacdor  rooms  hacapo  v14a  refrig  v18q  v18q1  \\\n",
              "0  ID_279628684  190000.0       0      3       0     1       1     0    NaN   \n",
              "1  ID_f29eb3ddd  135000.0       0      4       0     1       1     1    1.0   \n",
              "2  ID_68de51c94       NaN       0      8       0     1       1     0    NaN   \n",
              "3  ID_d671db89c  180000.0       0      5       0     1       1     1    1.0   \n",
              "4  ID_d56d6f5f5  180000.0       0      5       0     1       1     1    1.0   \n",
              "\n",
              "   r4h1  ...  SQBescolari  SQBage  SQBhogar_total  SQBedjefe  SQBhogar_nin  \\\n",
              "0     0  ...          100    1849               1        100             0   \n",
              "1     0  ...          144    4489               1        144             0   \n",
              "2     0  ...          121    8464               1          0             0   \n",
              "3     0  ...           81     289              16        121             4   \n",
              "4     0  ...          121    1369              16        121             4   \n",
              "\n",
              "   SQBovercrowding  SQBdependency  SQBmeaned  agesq  Target  \n",
              "0         1.000000            0.0      100.0   1849       4  \n",
              "1         1.000000           64.0      144.0   4489       4  \n",
              "2         0.250000           64.0      121.0   8464       4  \n",
              "3         1.777778            1.0      121.0    289       4  \n",
              "4         1.777778            1.0      121.0   1369       4  \n",
              "\n",
              "[5 rows x 143 columns]"
            ],
            "text/html": [
              "\n",
              "  <div id=\"df-12e43baa-3bc7-4963-8999-189a40b36b3d\">\n",
              "    <div class=\"colab-df-container\">\n",
              "      <div>\n",
              "<style scoped>\n",
              "    .dataframe tbody tr th:only-of-type {\n",
              "        vertical-align: middle;\n",
              "    }\n",
              "\n",
              "    .dataframe tbody tr th {\n",
              "        vertical-align: top;\n",
              "    }\n",
              "\n",
              "    .dataframe thead th {\n",
              "        text-align: right;\n",
              "    }\n",
              "</style>\n",
              "<table border=\"1\" class=\"dataframe\">\n",
              "  <thead>\n",
              "    <tr style=\"text-align: right;\">\n",
              "      <th></th>\n",
              "      <th>Id</th>\n",
              "      <th>v2a1</th>\n",
              "      <th>hacdor</th>\n",
              "      <th>rooms</th>\n",
              "      <th>hacapo</th>\n",
              "      <th>v14a</th>\n",
              "      <th>refrig</th>\n",
              "      <th>v18q</th>\n",
              "      <th>v18q1</th>\n",
              "      <th>r4h1</th>\n",
              "      <th>...</th>\n",
              "      <th>SQBescolari</th>\n",
              "      <th>SQBage</th>\n",
              "      <th>SQBhogar_total</th>\n",
              "      <th>SQBedjefe</th>\n",
              "      <th>SQBhogar_nin</th>\n",
              "      <th>SQBovercrowding</th>\n",
              "      <th>SQBdependency</th>\n",
              "      <th>SQBmeaned</th>\n",
              "      <th>agesq</th>\n",
              "      <th>Target</th>\n",
              "    </tr>\n",
              "  </thead>\n",
              "  <tbody>\n",
              "    <tr>\n",
              "      <th>0</th>\n",
              "      <td>ID_279628684</td>\n",
              "      <td>190000.0</td>\n",
              "      <td>0</td>\n",
              "      <td>3</td>\n",
              "      <td>0</td>\n",
              "      <td>1</td>\n",
              "      <td>1</td>\n",
              "      <td>0</td>\n",
              "      <td>NaN</td>\n",
              "      <td>0</td>\n",
              "      <td>...</td>\n",
              "      <td>100</td>\n",
              "      <td>1849</td>\n",
              "      <td>1</td>\n",
              "      <td>100</td>\n",
              "      <td>0</td>\n",
              "      <td>1.000000</td>\n",
              "      <td>0.0</td>\n",
              "      <td>100.0</td>\n",
              "      <td>1849</td>\n",
              "      <td>4</td>\n",
              "    </tr>\n",
              "    <tr>\n",
              "      <th>1</th>\n",
              "      <td>ID_f29eb3ddd</td>\n",
              "      <td>135000.0</td>\n",
              "      <td>0</td>\n",
              "      <td>4</td>\n",
              "      <td>0</td>\n",
              "      <td>1</td>\n",
              "      <td>1</td>\n",
              "      <td>1</td>\n",
              "      <td>1.0</td>\n",
              "      <td>0</td>\n",
              "      <td>...</td>\n",
              "      <td>144</td>\n",
              "      <td>4489</td>\n",
              "      <td>1</td>\n",
              "      <td>144</td>\n",
              "      <td>0</td>\n",
              "      <td>1.000000</td>\n",
              "      <td>64.0</td>\n",
              "      <td>144.0</td>\n",
              "      <td>4489</td>\n",
              "      <td>4</td>\n",
              "    </tr>\n",
              "    <tr>\n",
              "      <th>2</th>\n",
              "      <td>ID_68de51c94</td>\n",
              "      <td>NaN</td>\n",
              "      <td>0</td>\n",
              "      <td>8</td>\n",
              "      <td>0</td>\n",
              "      <td>1</td>\n",
              "      <td>1</td>\n",
              "      <td>0</td>\n",
              "      <td>NaN</td>\n",
              "      <td>0</td>\n",
              "      <td>...</td>\n",
              "      <td>121</td>\n",
              "      <td>8464</td>\n",
              "      <td>1</td>\n",
              "      <td>0</td>\n",
              "      <td>0</td>\n",
              "      <td>0.250000</td>\n",
              "      <td>64.0</td>\n",
              "      <td>121.0</td>\n",
              "      <td>8464</td>\n",
              "      <td>4</td>\n",
              "    </tr>\n",
              "    <tr>\n",
              "      <th>3</th>\n",
              "      <td>ID_d671db89c</td>\n",
              "      <td>180000.0</td>\n",
              "      <td>0</td>\n",
              "      <td>5</td>\n",
              "      <td>0</td>\n",
              "      <td>1</td>\n",
              "      <td>1</td>\n",
              "      <td>1</td>\n",
              "      <td>1.0</td>\n",
              "      <td>0</td>\n",
              "      <td>...</td>\n",
              "      <td>81</td>\n",
              "      <td>289</td>\n",
              "      <td>16</td>\n",
              "      <td>121</td>\n",
              "      <td>4</td>\n",
              "      <td>1.777778</td>\n",
              "      <td>1.0</td>\n",
              "      <td>121.0</td>\n",
              "      <td>289</td>\n",
              "      <td>4</td>\n",
              "    </tr>\n",
              "    <tr>\n",
              "      <th>4</th>\n",
              "      <td>ID_d56d6f5f5</td>\n",
              "      <td>180000.0</td>\n",
              "      <td>0</td>\n",
              "      <td>5</td>\n",
              "      <td>0</td>\n",
              "      <td>1</td>\n",
              "      <td>1</td>\n",
              "      <td>1</td>\n",
              "      <td>1.0</td>\n",
              "      <td>0</td>\n",
              "      <td>...</td>\n",
              "      <td>121</td>\n",
              "      <td>1369</td>\n",
              "      <td>16</td>\n",
              "      <td>121</td>\n",
              "      <td>4</td>\n",
              "      <td>1.777778</td>\n",
              "      <td>1.0</td>\n",
              "      <td>121.0</td>\n",
              "      <td>1369</td>\n",
              "      <td>4</td>\n",
              "    </tr>\n",
              "  </tbody>\n",
              "</table>\n",
              "<p>5 rows × 143 columns</p>\n",
              "</div>\n",
              "      <button class=\"colab-df-convert\" onclick=\"convertToInteractive('df-12e43baa-3bc7-4963-8999-189a40b36b3d')\"\n",
              "              title=\"Convert this dataframe to an interactive table.\"\n",
              "              style=\"display:none;\">\n",
              "        \n",
              "  <svg xmlns=\"http://www.w3.org/2000/svg\" height=\"24px\"viewBox=\"0 0 24 24\"\n",
              "       width=\"24px\">\n",
              "    <path d=\"M0 0h24v24H0V0z\" fill=\"none\"/>\n",
              "    <path d=\"M18.56 5.44l.94 2.06.94-2.06 2.06-.94-2.06-.94-.94-2.06-.94 2.06-2.06.94zm-11 1L8.5 8.5l.94-2.06 2.06-.94-2.06-.94L8.5 2.5l-.94 2.06-2.06.94zm10 10l.94 2.06.94-2.06 2.06-.94-2.06-.94-.94-2.06-.94 2.06-2.06.94z\"/><path d=\"M17.41 7.96l-1.37-1.37c-.4-.4-.92-.59-1.43-.59-.52 0-1.04.2-1.43.59L10.3 9.45l-7.72 7.72c-.78.78-.78 2.05 0 2.83L4 21.41c.39.39.9.59 1.41.59.51 0 1.02-.2 1.41-.59l7.78-7.78 2.81-2.81c.8-.78.8-2.07 0-2.86zM5.41 20L4 18.59l7.72-7.72 1.47 1.35L5.41 20z\"/>\n",
              "  </svg>\n",
              "      </button>\n",
              "      \n",
              "  <style>\n",
              "    .colab-df-container {\n",
              "      display:flex;\n",
              "      flex-wrap:wrap;\n",
              "      gap: 12px;\n",
              "    }\n",
              "\n",
              "    .colab-df-convert {\n",
              "      background-color: #E8F0FE;\n",
              "      border: none;\n",
              "      border-radius: 50%;\n",
              "      cursor: pointer;\n",
              "      display: none;\n",
              "      fill: #1967D2;\n",
              "      height: 32px;\n",
              "      padding: 0 0 0 0;\n",
              "      width: 32px;\n",
              "    }\n",
              "\n",
              "    .colab-df-convert:hover {\n",
              "      background-color: #E2EBFA;\n",
              "      box-shadow: 0px 1px 2px rgba(60, 64, 67, 0.3), 0px 1px 3px 1px rgba(60, 64, 67, 0.15);\n",
              "      fill: #174EA6;\n",
              "    }\n",
              "\n",
              "    [theme=dark] .colab-df-convert {\n",
              "      background-color: #3B4455;\n",
              "      fill: #D2E3FC;\n",
              "    }\n",
              "\n",
              "    [theme=dark] .colab-df-convert:hover {\n",
              "      background-color: #434B5C;\n",
              "      box-shadow: 0px 1px 3px 1px rgba(0, 0, 0, 0.15);\n",
              "      filter: drop-shadow(0px 1px 2px rgba(0, 0, 0, 0.3));\n",
              "      fill: #FFFFFF;\n",
              "    }\n",
              "  </style>\n",
              "\n",
              "      <script>\n",
              "        const buttonEl =\n",
              "          document.querySelector('#df-12e43baa-3bc7-4963-8999-189a40b36b3d button.colab-df-convert');\n",
              "        buttonEl.style.display =\n",
              "          google.colab.kernel.accessAllowed ? 'block' : 'none';\n",
              "\n",
              "        async function convertToInteractive(key) {\n",
              "          const element = document.querySelector('#df-12e43baa-3bc7-4963-8999-189a40b36b3d');\n",
              "          const dataTable =\n",
              "            await google.colab.kernel.invokeFunction('convertToInteractive',\n",
              "                                                     [key], {});\n",
              "          if (!dataTable) return;\n",
              "\n",
              "          const docLinkHtml = 'Like what you see? Visit the ' +\n",
              "            '<a target=\"_blank\" href=https://colab.research.google.com/notebooks/data_table.ipynb>data table notebook</a>'\n",
              "            + ' to learn more about interactive tables.';\n",
              "          element.innerHTML = '';\n",
              "          dataTable['output_type'] = 'display_data';\n",
              "          await google.colab.output.renderOutput(dataTable, element);\n",
              "          const docLink = document.createElement('div');\n",
              "          docLink.innerHTML = docLinkHtml;\n",
              "          element.appendChild(docLink);\n",
              "        }\n",
              "      </script>\n",
              "    </div>\n",
              "  </div>\n",
              "  "
            ]
          },
          "metadata": {},
          "execution_count": 6
        }
      ]
    },
    {
      "cell_type": "code",
      "source": [
        "#Identifying the data types of training data\n",
        "dtypes=df_train.dtypes.to_dict()\n",
        "dtypes"
      ],
      "metadata": {
        "colab": {
          "base_uri": "https://localhost:8080/"
        },
        "id": "S6Uw1X9Li63F",
        "outputId": "4be9b79e-17af-445e-bfcd-f5560915b0e0"
      },
      "execution_count": 4,
      "outputs": [
        {
          "output_type": "execute_result",
          "data": {
            "text/plain": [
              "{'Id': dtype('O'),\n",
              " 'SQBage': dtype('int64'),\n",
              " 'SQBdependency': dtype('float64'),\n",
              " 'SQBedjefe': dtype('int64'),\n",
              " 'SQBescolari': dtype('int64'),\n",
              " 'SQBhogar_nin': dtype('int64'),\n",
              " 'SQBhogar_total': dtype('int64'),\n",
              " 'SQBmeaned': dtype('float64'),\n",
              " 'SQBovercrowding': dtype('float64'),\n",
              " 'Target': dtype('int64'),\n",
              " 'abastaguadentro': dtype('int64'),\n",
              " 'abastaguafuera': dtype('int64'),\n",
              " 'abastaguano': dtype('int64'),\n",
              " 'age': dtype('int64'),\n",
              " 'agesq': dtype('int64'),\n",
              " 'area1': dtype('int64'),\n",
              " 'area2': dtype('int64'),\n",
              " 'bedrooms': dtype('int64'),\n",
              " 'cielorazo': dtype('int64'),\n",
              " 'computer': dtype('int64'),\n",
              " 'coopele': dtype('int64'),\n",
              " 'dependency': dtype('O'),\n",
              " 'dis': dtype('int64'),\n",
              " 'edjefa': dtype('O'),\n",
              " 'edjefe': dtype('O'),\n",
              " 'elimbasu1': dtype('int64'),\n",
              " 'elimbasu2': dtype('int64'),\n",
              " 'elimbasu3': dtype('int64'),\n",
              " 'elimbasu4': dtype('int64'),\n",
              " 'elimbasu5': dtype('int64'),\n",
              " 'elimbasu6': dtype('int64'),\n",
              " 'energcocinar1': dtype('int64'),\n",
              " 'energcocinar2': dtype('int64'),\n",
              " 'energcocinar3': dtype('int64'),\n",
              " 'energcocinar4': dtype('int64'),\n",
              " 'epared1': dtype('int64'),\n",
              " 'epared2': dtype('int64'),\n",
              " 'epared3': dtype('int64'),\n",
              " 'escolari': dtype('int64'),\n",
              " 'estadocivil1': dtype('int64'),\n",
              " 'estadocivil2': dtype('int64'),\n",
              " 'estadocivil3': dtype('int64'),\n",
              " 'estadocivil4': dtype('int64'),\n",
              " 'estadocivil5': dtype('int64'),\n",
              " 'estadocivil6': dtype('int64'),\n",
              " 'estadocivil7': dtype('int64'),\n",
              " 'etecho1': dtype('int64'),\n",
              " 'etecho2': dtype('int64'),\n",
              " 'etecho3': dtype('int64'),\n",
              " 'eviv1': dtype('int64'),\n",
              " 'eviv2': dtype('int64'),\n",
              " 'eviv3': dtype('int64'),\n",
              " 'female': dtype('int64'),\n",
              " 'hacapo': dtype('int64'),\n",
              " 'hacdor': dtype('int64'),\n",
              " 'hhsize': dtype('int64'),\n",
              " 'hogar_adul': dtype('int64'),\n",
              " 'hogar_mayor': dtype('int64'),\n",
              " 'hogar_nin': dtype('int64'),\n",
              " 'hogar_total': dtype('int64'),\n",
              " 'idhogar': dtype('O'),\n",
              " 'instlevel1': dtype('int64'),\n",
              " 'instlevel2': dtype('int64'),\n",
              " 'instlevel3': dtype('int64'),\n",
              " 'instlevel4': dtype('int64'),\n",
              " 'instlevel5': dtype('int64'),\n",
              " 'instlevel6': dtype('int64'),\n",
              " 'instlevel7': dtype('int64'),\n",
              " 'instlevel8': dtype('int64'),\n",
              " 'instlevel9': dtype('int64'),\n",
              " 'lugar1': dtype('int64'),\n",
              " 'lugar2': dtype('int64'),\n",
              " 'lugar3': dtype('int64'),\n",
              " 'lugar4': dtype('int64'),\n",
              " 'lugar5': dtype('int64'),\n",
              " 'lugar6': dtype('int64'),\n",
              " 'male': dtype('int64'),\n",
              " 'meaneduc': dtype('float64'),\n",
              " 'mobilephone': dtype('int64'),\n",
              " 'noelec': dtype('int64'),\n",
              " 'overcrowding': dtype('float64'),\n",
              " 'paredblolad': dtype('int64'),\n",
              " 'pareddes': dtype('int64'),\n",
              " 'paredfibras': dtype('int64'),\n",
              " 'paredmad': dtype('int64'),\n",
              " 'paredother': dtype('int64'),\n",
              " 'paredpreb': dtype('int64'),\n",
              " 'paredzinc': dtype('int64'),\n",
              " 'paredzocalo': dtype('int64'),\n",
              " 'parentesco1': dtype('int64'),\n",
              " 'parentesco10': dtype('int64'),\n",
              " 'parentesco11': dtype('int64'),\n",
              " 'parentesco12': dtype('int64'),\n",
              " 'parentesco2': dtype('int64'),\n",
              " 'parentesco3': dtype('int64'),\n",
              " 'parentesco4': dtype('int64'),\n",
              " 'parentesco5': dtype('int64'),\n",
              " 'parentesco6': dtype('int64'),\n",
              " 'parentesco7': dtype('int64'),\n",
              " 'parentesco8': dtype('int64'),\n",
              " 'parentesco9': dtype('int64'),\n",
              " 'pisocemento': dtype('int64'),\n",
              " 'pisomadera': dtype('int64'),\n",
              " 'pisomoscer': dtype('int64'),\n",
              " 'pisonatur': dtype('int64'),\n",
              " 'pisonotiene': dtype('int64'),\n",
              " 'pisoother': dtype('int64'),\n",
              " 'planpri': dtype('int64'),\n",
              " 'public': dtype('int64'),\n",
              " 'qmobilephone': dtype('int64'),\n",
              " 'r4h1': dtype('int64'),\n",
              " 'r4h2': dtype('int64'),\n",
              " 'r4h3': dtype('int64'),\n",
              " 'r4m1': dtype('int64'),\n",
              " 'r4m2': dtype('int64'),\n",
              " 'r4m3': dtype('int64'),\n",
              " 'r4t1': dtype('int64'),\n",
              " 'r4t2': dtype('int64'),\n",
              " 'r4t3': dtype('int64'),\n",
              " 'refrig': dtype('int64'),\n",
              " 'rez_esc': dtype('float64'),\n",
              " 'rooms': dtype('int64'),\n",
              " 'sanitario1': dtype('int64'),\n",
              " 'sanitario2': dtype('int64'),\n",
              " 'sanitario3': dtype('int64'),\n",
              " 'sanitario5': dtype('int64'),\n",
              " 'sanitario6': dtype('int64'),\n",
              " 'tamhog': dtype('int64'),\n",
              " 'tamviv': dtype('int64'),\n",
              " 'techocane': dtype('int64'),\n",
              " 'techoentrepiso': dtype('int64'),\n",
              " 'techootro': dtype('int64'),\n",
              " 'techozinc': dtype('int64'),\n",
              " 'television': dtype('int64'),\n",
              " 'tipovivi1': dtype('int64'),\n",
              " 'tipovivi2': dtype('int64'),\n",
              " 'tipovivi3': dtype('int64'),\n",
              " 'tipovivi4': dtype('int64'),\n",
              " 'tipovivi5': dtype('int64'),\n",
              " 'v14a': dtype('int64'),\n",
              " 'v18q': dtype('int64'),\n",
              " 'v18q1': dtype('float64'),\n",
              " 'v2a1': dtype('float64')}"
            ]
          },
          "metadata": {},
          "execution_count": 4
        }
      ]
    },
    {
      "cell_type": "markdown",
      "source": [
        "We have data of three data types i.e. float64,int64 and object"
      ],
      "metadata": {
        "id": "x3U4xxNUj4cQ"
      }
    },
    {
      "cell_type": "code",
      "source": [
        "#info\n",
        "df_train.info()"
      ],
      "metadata": {
        "colab": {
          "base_uri": "https://localhost:8080/"
        },
        "id": "4dtv3piukCze",
        "outputId": "2991400f-4859-4ff6-b0c9-ac39db5ca255"
      },
      "execution_count": 5,
      "outputs": [
        {
          "output_type": "stream",
          "name": "stdout",
          "text": [
            "<class 'pandas.core.frame.DataFrame'>\n",
            "RangeIndex: 9557 entries, 0 to 9556\n",
            "Columns: 143 entries, Id to Target\n",
            "dtypes: float64(8), int64(130), object(5)\n",
            "memory usage: 10.4+ MB\n"
          ]
        }
      ]
    },
    {
      "cell_type": "code",
      "source": [
        "#Dropping the id columns as they arent required\n",
        "df_train=df_train.drop([\"Id\",\"idhogar\"],axis=1)"
      ],
      "metadata": {
        "id": "aJFFFMDwjvXv"
      },
      "execution_count": 7,
      "outputs": []
    },
    {
      "cell_type": "code",
      "source": [
        "df_test=df_test.drop([\"Id\", \"idhogar\"],axis=1)"
      ],
      "metadata": {
        "id": "3LdDQuQSltXc"
      },
      "execution_count": 8,
      "outputs": []
    },
    {
      "cell_type": "code",
      "source": [
        "df_train.info()"
      ],
      "metadata": {
        "colab": {
          "base_uri": "https://localhost:8080/"
        },
        "id": "D0B9NU_rmEyT",
        "outputId": "5c8690d4-b896-47ba-b00f-81fb8d2c07f6"
      },
      "execution_count": 9,
      "outputs": [
        {
          "output_type": "stream",
          "name": "stdout",
          "text": [
            "<class 'pandas.core.frame.DataFrame'>\n",
            "RangeIndex: 9557 entries, 0 to 9556\n",
            "Columns: 141 entries, v2a1 to Target\n",
            "dtypes: float64(8), int64(130), object(3)\n",
            "memory usage: 10.3+ MB\n"
          ]
        }
      ]
    },
    {
      "cell_type": "code",
      "source": [
        "#  getting all object dtypes from the df_train.columns\n",
        "for i in df_train.columns:\n",
        "  a=df_train[i].dtype\n",
        "  if a=='object':\n",
        "    print(i)"
      ],
      "metadata": {
        "colab": {
          "base_uri": "https://localhost:8080/"
        },
        "id": "ede0K9YtmpKa",
        "outputId": "d7e64a55-a09d-487b-889d-3cbfa42b7c4e"
      },
      "execution_count": 10,
      "outputs": [
        {
          "output_type": "stream",
          "name": "stdout",
          "text": [
            "dependency\n",
            "edjefe\n",
            "edjefa\n"
          ]
        }
      ]
    },
    {
      "cell_type": "code",
      "source": [
        "#Creating a function for mapping the value yes with 1 and no with 0\n",
        "def map(i):\n",
        "  if i=='yes':\n",
        "    return(float(1))\n",
        "  elif i=='no':\n",
        "    return(float(0)) \n",
        "  else:\n",
        "    return(float(i))  "
      ],
      "metadata": {
        "id": "u_wozbpPnoXw"
      },
      "execution_count": 11,
      "outputs": []
    },
    {
      "cell_type": "code",
      "source": [
        "# applying function map on dependency , edjefe and edjefa\n",
        "df_train['dependency']=df_train['dependency'].apply(map)\n"
      ],
      "metadata": {
        "id": "9aIxDkxYpWMy"
      },
      "execution_count": 12,
      "outputs": []
    },
    {
      "cell_type": "code",
      "source": [
        "df_train['edjefe']=df_train['edjefe'].apply(map)\n",
        "df_train['edjefa']=df_train['edjefa'].apply(map)"
      ],
      "metadata": {
        "id": "IlnX9Dc3qgg8"
      },
      "execution_count": 13,
      "outputs": []
    },
    {
      "cell_type": "code",
      "source": [
        "df_train.info()"
      ],
      "metadata": {
        "colab": {
          "base_uri": "https://localhost:8080/"
        },
        "id": "Caox1WhaqnYp",
        "outputId": "07a534a5-a09b-46d7-bed0-b10d21b3dbd5"
      },
      "execution_count": 14,
      "outputs": [
        {
          "output_type": "stream",
          "name": "stdout",
          "text": [
            "<class 'pandas.core.frame.DataFrame'>\n",
            "RangeIndex: 9557 entries, 0 to 9556\n",
            "Columns: 141 entries, v2a1 to Target\n",
            "dtypes: float64(11), int64(130)\n",
            "memory usage: 10.3 MB\n"
          ]
        }
      ]
    },
    {
      "cell_type": "markdown",
      "source": [
        "### Identifying the variance of each column"
      ],
      "metadata": {
        "id": "SEpNogTKqyl-"
      }
    },
    {
      "cell_type": "code",
      "source": [
        "df_train.var()"
      ],
      "metadata": {
        "colab": {
          "base_uri": "https://localhost:8080/"
        },
        "id": "wgfZxkOoq4Us",
        "outputId": "defa64a4-39b7-4156-d033-152e9d8e178d"
      },
      "execution_count": 15,
      "outputs": [
        {
          "output_type": "execute_result",
          "data": {
            "text/plain": [
              "v2a1               2.263735e+10\n",
              "hacdor             3.664046e-02\n",
              "rooms              2.156143e+00\n",
              "hacapo             2.309080e-02\n",
              "v14a               5.204941e-03\n",
              "                       ...     \n",
              "SQBovercrowding    1.705316e+01\n",
              "SQBdependency      1.565459e+02\n",
              "SQBmeaned          8.745409e+03\n",
              "agesq              3.031767e+06\n",
              "Target             1.019221e+00\n",
              "Length: 141, dtype: float64"
            ]
          },
          "metadata": {},
          "execution_count": 15
        }
      ]
    },
    {
      "cell_type": "code",
      "source": [
        "#columns with zero variace\n",
        "for i in df_train:\n",
        "  v=df_train[i].var()\n",
        "  if v== 0:\n",
        "    print(i)"
      ],
      "metadata": {
        "colab": {
          "base_uri": "https://localhost:8080/"
        },
        "id": "p2cTGTodrI3L",
        "outputId": "af340b6c-e480-4f92-d72f-9f64a8c6b46c"
      },
      "execution_count": 16,
      "outputs": [
        {
          "output_type": "stream",
          "name": "stdout",
          "text": [
            "elimbasu5\n"
          ]
        }
      ]
    },
    {
      "cell_type": "code",
      "source": [
        "# droping columns elimbasu5 for both train and test datasets\n",
        "df_train=df_train.drop(\"elimbasu5\",axis=1)\n",
        "df_test=df_test.drop(\"elimbasu5\",axis=1)"
      ],
      "metadata": {
        "id": "GYVCQ5ZssUvd"
      },
      "execution_count": 17,
      "outputs": []
    },
    {
      "cell_type": "code",
      "source": [
        "#total person in household\n",
        "df_train[\"r4t3\"].value_counts()"
      ],
      "metadata": {
        "colab": {
          "base_uri": "https://localhost:8080/"
        },
        "id": "vGPYjeaQtDan",
        "outputId": "9fe702d9-78b3-4c00-8dc5-ce69fda0d424"
      },
      "execution_count": 18,
      "outputs": [
        {
          "output_type": "execute_result",
          "data": {
            "text/plain": [
              "4     2447\n",
              "3     2260\n",
              "5     1598\n",
              "2     1355\n",
              "6      824\n",
              "1      378\n",
              "7      368\n",
              "8       96\n",
              "9       90\n",
              "10      60\n",
              "11      44\n",
              "12      24\n",
              "13      13\n",
              "Name: r4t3, dtype: int64"
            ]
          },
          "metadata": {},
          "execution_count": 18
        }
      ]
    },
    {
      "cell_type": "code",
      "source": [
        "df_train=df_train.drop(\"r4t3\",axis=1)\n",
        "df_test=df_test.drop(\"r4t3\",axis=1)"
      ],
      "metadata": {
        "id": "MFz6pLcvtpAj"
      },
      "execution_count": 19,
      "outputs": []
    },
    {
      "cell_type": "markdown",
      "source": [
        "Check if there is a house without a family head."
      ],
      "metadata": {
        "id": "Ld48IfUyuwUB"
      }
    },
    {
      "cell_type": "code",
      "source": [
        "df_train['parentesco1'].value_counts()"
      ],
      "metadata": {
        "colab": {
          "base_uri": "https://localhost:8080/"
        },
        "id": "RP04ffzvuygq",
        "outputId": "688c6ff6-1832-4faf-c56e-8131478eaf01"
      },
      "execution_count": 20,
      "outputs": [
        {
          "output_type": "execute_result",
          "data": {
            "text/plain": [
              "0    6584\n",
              "1    2973\n",
              "Name: parentesco1, dtype: int64"
            ]
          },
          "metadata": {},
          "execution_count": 20
        }
      ]
    },
    {
      "cell_type": "code",
      "source": [
        "pd.crosstab(df_train['edjefa'],df_train['edjefe'])"
      ],
      "metadata": {
        "colab": {
          "base_uri": "https://localhost:8080/",
          "height": 800
        },
        "id": "C21NRfHaur90",
        "outputId": "06dfff48-1ebb-49d5-d73b-4c07c9e2c6ad"
      },
      "execution_count": 21,
      "outputs": [
        {
          "output_type": "execute_result",
          "data": {
            "text/plain": [
              "edjefe  0.0   1.0   2.0   3.0   4.0   5.0   6.0   7.0   8.0   9.0   ...  12.0  \\\n",
              "edjefa                                                              ...         \n",
              "0.0      435   123   194   307   137   222  1845   234   257   486  ...   113   \n",
              "1.0       69     0     0     0     0     0     0     0     0     0  ...     0   \n",
              "2.0       84     0     0     0     0     0     0     0     0     0  ...     0   \n",
              "3.0      152     0     0     0     0     0     0     0     0     0  ...     0   \n",
              "4.0      136     0     0     0     0     0     0     0     0     0  ...     0   \n",
              "5.0      176     0     0     0     0     0     0     0     0     0  ...     0   \n",
              "6.0      947     0     0     0     0     0     0     0     0     0  ...     0   \n",
              "7.0      179     0     0     0     0     0     0     0     0     0  ...     0   \n",
              "8.0      217     0     0     0     0     0     0     0     0     0  ...     0   \n",
              "9.0      237     0     0     0     0     0     0     0     0     0  ...     0   \n",
              "10.0      96     0     0     0     0     0     0     0     0     0  ...     0   \n",
              "11.0     399     0     0     0     0     0     0     0     0     0  ...     0   \n",
              "12.0      72     0     0     0     0     0     0     0     0     0  ...     0   \n",
              "13.0      52     0     0     0     0     0     0     0     0     0  ...     0   \n",
              "14.0     120     0     0     0     0     0     0     0     0     0  ...     0   \n",
              "15.0     188     0     0     0     0     0     0     0     0     0  ...     0   \n",
              "16.0     113     0     0     0     0     0     0     0     0     0  ...     0   \n",
              "17.0      76     0     0     0     0     0     0     0     0     0  ...     0   \n",
              "18.0       3     0     0     0     0     0     0     0     0     0  ...     0   \n",
              "19.0       4     0     0     0     0     0     0     0     0     0  ...     0   \n",
              "20.0       2     0     0     0     0     0     0     0     0     0  ...     0   \n",
              "21.0       5     0     0     0     0     0     0     0     0     0  ...     0   \n",
              "\n",
              "edjefe  13.0  14.0  15.0  16.0  17.0  18.0  19.0  20.0  21.0  \n",
              "edjefa                                                        \n",
              "0.0      103   208   285   134   202    19    14     7    43  \n",
              "1.0        0     0     0     0     0     0     0     0     0  \n",
              "2.0        0     0     0     0     0     0     0     0     0  \n",
              "3.0        0     0     0     0     0     0     0     0     0  \n",
              "4.0        0     0     0     0     0     0     0     0     0  \n",
              "5.0        0     0     0     0     0     0     0     0     0  \n",
              "6.0        0     0     0     0     0     0     0     0     0  \n",
              "7.0        0     0     0     0     0     0     0     0     0  \n",
              "8.0        0     0     0     0     0     0     0     0     0  \n",
              "9.0        0     0     0     0     0     0     0     0     0  \n",
              "10.0       0     0     0     0     0     0     0     0     0  \n",
              "11.0       0     0     0     0     0     0     0     0     0  \n",
              "12.0       0     0     0     0     0     0     0     0     0  \n",
              "13.0       0     0     0     0     0     0     0     0     0  \n",
              "14.0       0     0     0     0     0     0     0     0     0  \n",
              "15.0       0     0     0     0     0     0     0     0     0  \n",
              "16.0       0     0     0     0     0     0     0     0     0  \n",
              "17.0       0     0     0     0     0     0     0     0     0  \n",
              "18.0       0     0     0     0     0     0     0     0     0  \n",
              "19.0       0     0     0     0     0     0     0     0     0  \n",
              "20.0       0     0     0     0     0     0     0     0     0  \n",
              "21.0       0     0     0     0     0     0     0     0     0  \n",
              "\n",
              "[22 rows x 22 columns]"
            ],
            "text/html": [
              "\n",
              "  <div id=\"df-03c808a2-f3fc-4c73-84ea-558f5960072b\">\n",
              "    <div class=\"colab-df-container\">\n",
              "      <div>\n",
              "<style scoped>\n",
              "    .dataframe tbody tr th:only-of-type {\n",
              "        vertical-align: middle;\n",
              "    }\n",
              "\n",
              "    .dataframe tbody tr th {\n",
              "        vertical-align: top;\n",
              "    }\n",
              "\n",
              "    .dataframe thead th {\n",
              "        text-align: right;\n",
              "    }\n",
              "</style>\n",
              "<table border=\"1\" class=\"dataframe\">\n",
              "  <thead>\n",
              "    <tr style=\"text-align: right;\">\n",
              "      <th>edjefe</th>\n",
              "      <th>0.0</th>\n",
              "      <th>1.0</th>\n",
              "      <th>2.0</th>\n",
              "      <th>3.0</th>\n",
              "      <th>4.0</th>\n",
              "      <th>5.0</th>\n",
              "      <th>6.0</th>\n",
              "      <th>7.0</th>\n",
              "      <th>8.0</th>\n",
              "      <th>9.0</th>\n",
              "      <th>...</th>\n",
              "      <th>12.0</th>\n",
              "      <th>13.0</th>\n",
              "      <th>14.0</th>\n",
              "      <th>15.0</th>\n",
              "      <th>16.0</th>\n",
              "      <th>17.0</th>\n",
              "      <th>18.0</th>\n",
              "      <th>19.0</th>\n",
              "      <th>20.0</th>\n",
              "      <th>21.0</th>\n",
              "    </tr>\n",
              "    <tr>\n",
              "      <th>edjefa</th>\n",
              "      <th></th>\n",
              "      <th></th>\n",
              "      <th></th>\n",
              "      <th></th>\n",
              "      <th></th>\n",
              "      <th></th>\n",
              "      <th></th>\n",
              "      <th></th>\n",
              "      <th></th>\n",
              "      <th></th>\n",
              "      <th></th>\n",
              "      <th></th>\n",
              "      <th></th>\n",
              "      <th></th>\n",
              "      <th></th>\n",
              "      <th></th>\n",
              "      <th></th>\n",
              "      <th></th>\n",
              "      <th></th>\n",
              "      <th></th>\n",
              "      <th></th>\n",
              "    </tr>\n",
              "  </thead>\n",
              "  <tbody>\n",
              "    <tr>\n",
              "      <th>0.0</th>\n",
              "      <td>435</td>\n",
              "      <td>123</td>\n",
              "      <td>194</td>\n",
              "      <td>307</td>\n",
              "      <td>137</td>\n",
              "      <td>222</td>\n",
              "      <td>1845</td>\n",
              "      <td>234</td>\n",
              "      <td>257</td>\n",
              "      <td>486</td>\n",
              "      <td>...</td>\n",
              "      <td>113</td>\n",
              "      <td>103</td>\n",
              "      <td>208</td>\n",
              "      <td>285</td>\n",
              "      <td>134</td>\n",
              "      <td>202</td>\n",
              "      <td>19</td>\n",
              "      <td>14</td>\n",
              "      <td>7</td>\n",
              "      <td>43</td>\n",
              "    </tr>\n",
              "    <tr>\n",
              "      <th>1.0</th>\n",
              "      <td>69</td>\n",
              "      <td>0</td>\n",
              "      <td>0</td>\n",
              "      <td>0</td>\n",
              "      <td>0</td>\n",
              "      <td>0</td>\n",
              "      <td>0</td>\n",
              "      <td>0</td>\n",
              "      <td>0</td>\n",
              "      <td>0</td>\n",
              "      <td>...</td>\n",
              "      <td>0</td>\n",
              "      <td>0</td>\n",
              "      <td>0</td>\n",
              "      <td>0</td>\n",
              "      <td>0</td>\n",
              "      <td>0</td>\n",
              "      <td>0</td>\n",
              "      <td>0</td>\n",
              "      <td>0</td>\n",
              "      <td>0</td>\n",
              "    </tr>\n",
              "    <tr>\n",
              "      <th>2.0</th>\n",
              "      <td>84</td>\n",
              "      <td>0</td>\n",
              "      <td>0</td>\n",
              "      <td>0</td>\n",
              "      <td>0</td>\n",
              "      <td>0</td>\n",
              "      <td>0</td>\n",
              "      <td>0</td>\n",
              "      <td>0</td>\n",
              "      <td>0</td>\n",
              "      <td>...</td>\n",
              "      <td>0</td>\n",
              "      <td>0</td>\n",
              "      <td>0</td>\n",
              "      <td>0</td>\n",
              "      <td>0</td>\n",
              "      <td>0</td>\n",
              "      <td>0</td>\n",
              "      <td>0</td>\n",
              "      <td>0</td>\n",
              "      <td>0</td>\n",
              "    </tr>\n",
              "    <tr>\n",
              "      <th>3.0</th>\n",
              "      <td>152</td>\n",
              "      <td>0</td>\n",
              "      <td>0</td>\n",
              "      <td>0</td>\n",
              "      <td>0</td>\n",
              "      <td>0</td>\n",
              "      <td>0</td>\n",
              "      <td>0</td>\n",
              "      <td>0</td>\n",
              "      <td>0</td>\n",
              "      <td>...</td>\n",
              "      <td>0</td>\n",
              "      <td>0</td>\n",
              "      <td>0</td>\n",
              "      <td>0</td>\n",
              "      <td>0</td>\n",
              "      <td>0</td>\n",
              "      <td>0</td>\n",
              "      <td>0</td>\n",
              "      <td>0</td>\n",
              "      <td>0</td>\n",
              "    </tr>\n",
              "    <tr>\n",
              "      <th>4.0</th>\n",
              "      <td>136</td>\n",
              "      <td>0</td>\n",
              "      <td>0</td>\n",
              "      <td>0</td>\n",
              "      <td>0</td>\n",
              "      <td>0</td>\n",
              "      <td>0</td>\n",
              "      <td>0</td>\n",
              "      <td>0</td>\n",
              "      <td>0</td>\n",
              "      <td>...</td>\n",
              "      <td>0</td>\n",
              "      <td>0</td>\n",
              "      <td>0</td>\n",
              "      <td>0</td>\n",
              "      <td>0</td>\n",
              "      <td>0</td>\n",
              "      <td>0</td>\n",
              "      <td>0</td>\n",
              "      <td>0</td>\n",
              "      <td>0</td>\n",
              "    </tr>\n",
              "    <tr>\n",
              "      <th>5.0</th>\n",
              "      <td>176</td>\n",
              "      <td>0</td>\n",
              "      <td>0</td>\n",
              "      <td>0</td>\n",
              "      <td>0</td>\n",
              "      <td>0</td>\n",
              "      <td>0</td>\n",
              "      <td>0</td>\n",
              "      <td>0</td>\n",
              "      <td>0</td>\n",
              "      <td>...</td>\n",
              "      <td>0</td>\n",
              "      <td>0</td>\n",
              "      <td>0</td>\n",
              "      <td>0</td>\n",
              "      <td>0</td>\n",
              "      <td>0</td>\n",
              "      <td>0</td>\n",
              "      <td>0</td>\n",
              "      <td>0</td>\n",
              "      <td>0</td>\n",
              "    </tr>\n",
              "    <tr>\n",
              "      <th>6.0</th>\n",
              "      <td>947</td>\n",
              "      <td>0</td>\n",
              "      <td>0</td>\n",
              "      <td>0</td>\n",
              "      <td>0</td>\n",
              "      <td>0</td>\n",
              "      <td>0</td>\n",
              "      <td>0</td>\n",
              "      <td>0</td>\n",
              "      <td>0</td>\n",
              "      <td>...</td>\n",
              "      <td>0</td>\n",
              "      <td>0</td>\n",
              "      <td>0</td>\n",
              "      <td>0</td>\n",
              "      <td>0</td>\n",
              "      <td>0</td>\n",
              "      <td>0</td>\n",
              "      <td>0</td>\n",
              "      <td>0</td>\n",
              "      <td>0</td>\n",
              "    </tr>\n",
              "    <tr>\n",
              "      <th>7.0</th>\n",
              "      <td>179</td>\n",
              "      <td>0</td>\n",
              "      <td>0</td>\n",
              "      <td>0</td>\n",
              "      <td>0</td>\n",
              "      <td>0</td>\n",
              "      <td>0</td>\n",
              "      <td>0</td>\n",
              "      <td>0</td>\n",
              "      <td>0</td>\n",
              "      <td>...</td>\n",
              "      <td>0</td>\n",
              "      <td>0</td>\n",
              "      <td>0</td>\n",
              "      <td>0</td>\n",
              "      <td>0</td>\n",
              "      <td>0</td>\n",
              "      <td>0</td>\n",
              "      <td>0</td>\n",
              "      <td>0</td>\n",
              "      <td>0</td>\n",
              "    </tr>\n",
              "    <tr>\n",
              "      <th>8.0</th>\n",
              "      <td>217</td>\n",
              "      <td>0</td>\n",
              "      <td>0</td>\n",
              "      <td>0</td>\n",
              "      <td>0</td>\n",
              "      <td>0</td>\n",
              "      <td>0</td>\n",
              "      <td>0</td>\n",
              "      <td>0</td>\n",
              "      <td>0</td>\n",
              "      <td>...</td>\n",
              "      <td>0</td>\n",
              "      <td>0</td>\n",
              "      <td>0</td>\n",
              "      <td>0</td>\n",
              "      <td>0</td>\n",
              "      <td>0</td>\n",
              "      <td>0</td>\n",
              "      <td>0</td>\n",
              "      <td>0</td>\n",
              "      <td>0</td>\n",
              "    </tr>\n",
              "    <tr>\n",
              "      <th>9.0</th>\n",
              "      <td>237</td>\n",
              "      <td>0</td>\n",
              "      <td>0</td>\n",
              "      <td>0</td>\n",
              "      <td>0</td>\n",
              "      <td>0</td>\n",
              "      <td>0</td>\n",
              "      <td>0</td>\n",
              "      <td>0</td>\n",
              "      <td>0</td>\n",
              "      <td>...</td>\n",
              "      <td>0</td>\n",
              "      <td>0</td>\n",
              "      <td>0</td>\n",
              "      <td>0</td>\n",
              "      <td>0</td>\n",
              "      <td>0</td>\n",
              "      <td>0</td>\n",
              "      <td>0</td>\n",
              "      <td>0</td>\n",
              "      <td>0</td>\n",
              "    </tr>\n",
              "    <tr>\n",
              "      <th>10.0</th>\n",
              "      <td>96</td>\n",
              "      <td>0</td>\n",
              "      <td>0</td>\n",
              "      <td>0</td>\n",
              "      <td>0</td>\n",
              "      <td>0</td>\n",
              "      <td>0</td>\n",
              "      <td>0</td>\n",
              "      <td>0</td>\n",
              "      <td>0</td>\n",
              "      <td>...</td>\n",
              "      <td>0</td>\n",
              "      <td>0</td>\n",
              "      <td>0</td>\n",
              "      <td>0</td>\n",
              "      <td>0</td>\n",
              "      <td>0</td>\n",
              "      <td>0</td>\n",
              "      <td>0</td>\n",
              "      <td>0</td>\n",
              "      <td>0</td>\n",
              "    </tr>\n",
              "    <tr>\n",
              "      <th>11.0</th>\n",
              "      <td>399</td>\n",
              "      <td>0</td>\n",
              "      <td>0</td>\n",
              "      <td>0</td>\n",
              "      <td>0</td>\n",
              "      <td>0</td>\n",
              "      <td>0</td>\n",
              "      <td>0</td>\n",
              "      <td>0</td>\n",
              "      <td>0</td>\n",
              "      <td>...</td>\n",
              "      <td>0</td>\n",
              "      <td>0</td>\n",
              "      <td>0</td>\n",
              "      <td>0</td>\n",
              "      <td>0</td>\n",
              "      <td>0</td>\n",
              "      <td>0</td>\n",
              "      <td>0</td>\n",
              "      <td>0</td>\n",
              "      <td>0</td>\n",
              "    </tr>\n",
              "    <tr>\n",
              "      <th>12.0</th>\n",
              "      <td>72</td>\n",
              "      <td>0</td>\n",
              "      <td>0</td>\n",
              "      <td>0</td>\n",
              "      <td>0</td>\n",
              "      <td>0</td>\n",
              "      <td>0</td>\n",
              "      <td>0</td>\n",
              "      <td>0</td>\n",
              "      <td>0</td>\n",
              "      <td>...</td>\n",
              "      <td>0</td>\n",
              "      <td>0</td>\n",
              "      <td>0</td>\n",
              "      <td>0</td>\n",
              "      <td>0</td>\n",
              "      <td>0</td>\n",
              "      <td>0</td>\n",
              "      <td>0</td>\n",
              "      <td>0</td>\n",
              "      <td>0</td>\n",
              "    </tr>\n",
              "    <tr>\n",
              "      <th>13.0</th>\n",
              "      <td>52</td>\n",
              "      <td>0</td>\n",
              "      <td>0</td>\n",
              "      <td>0</td>\n",
              "      <td>0</td>\n",
              "      <td>0</td>\n",
              "      <td>0</td>\n",
              "      <td>0</td>\n",
              "      <td>0</td>\n",
              "      <td>0</td>\n",
              "      <td>...</td>\n",
              "      <td>0</td>\n",
              "      <td>0</td>\n",
              "      <td>0</td>\n",
              "      <td>0</td>\n",
              "      <td>0</td>\n",
              "      <td>0</td>\n",
              "      <td>0</td>\n",
              "      <td>0</td>\n",
              "      <td>0</td>\n",
              "      <td>0</td>\n",
              "    </tr>\n",
              "    <tr>\n",
              "      <th>14.0</th>\n",
              "      <td>120</td>\n",
              "      <td>0</td>\n",
              "      <td>0</td>\n",
              "      <td>0</td>\n",
              "      <td>0</td>\n",
              "      <td>0</td>\n",
              "      <td>0</td>\n",
              "      <td>0</td>\n",
              "      <td>0</td>\n",
              "      <td>0</td>\n",
              "      <td>...</td>\n",
              "      <td>0</td>\n",
              "      <td>0</td>\n",
              "      <td>0</td>\n",
              "      <td>0</td>\n",
              "      <td>0</td>\n",
              "      <td>0</td>\n",
              "      <td>0</td>\n",
              "      <td>0</td>\n",
              "      <td>0</td>\n",
              "      <td>0</td>\n",
              "    </tr>\n",
              "    <tr>\n",
              "      <th>15.0</th>\n",
              "      <td>188</td>\n",
              "      <td>0</td>\n",
              "      <td>0</td>\n",
              "      <td>0</td>\n",
              "      <td>0</td>\n",
              "      <td>0</td>\n",
              "      <td>0</td>\n",
              "      <td>0</td>\n",
              "      <td>0</td>\n",
              "      <td>0</td>\n",
              "      <td>...</td>\n",
              "      <td>0</td>\n",
              "      <td>0</td>\n",
              "      <td>0</td>\n",
              "      <td>0</td>\n",
              "      <td>0</td>\n",
              "      <td>0</td>\n",
              "      <td>0</td>\n",
              "      <td>0</td>\n",
              "      <td>0</td>\n",
              "      <td>0</td>\n",
              "    </tr>\n",
              "    <tr>\n",
              "      <th>16.0</th>\n",
              "      <td>113</td>\n",
              "      <td>0</td>\n",
              "      <td>0</td>\n",
              "      <td>0</td>\n",
              "      <td>0</td>\n",
              "      <td>0</td>\n",
              "      <td>0</td>\n",
              "      <td>0</td>\n",
              "      <td>0</td>\n",
              "      <td>0</td>\n",
              "      <td>...</td>\n",
              "      <td>0</td>\n",
              "      <td>0</td>\n",
              "      <td>0</td>\n",
              "      <td>0</td>\n",
              "      <td>0</td>\n",
              "      <td>0</td>\n",
              "      <td>0</td>\n",
              "      <td>0</td>\n",
              "      <td>0</td>\n",
              "      <td>0</td>\n",
              "    </tr>\n",
              "    <tr>\n",
              "      <th>17.0</th>\n",
              "      <td>76</td>\n",
              "      <td>0</td>\n",
              "      <td>0</td>\n",
              "      <td>0</td>\n",
              "      <td>0</td>\n",
              "      <td>0</td>\n",
              "      <td>0</td>\n",
              "      <td>0</td>\n",
              "      <td>0</td>\n",
              "      <td>0</td>\n",
              "      <td>...</td>\n",
              "      <td>0</td>\n",
              "      <td>0</td>\n",
              "      <td>0</td>\n",
              "      <td>0</td>\n",
              "      <td>0</td>\n",
              "      <td>0</td>\n",
              "      <td>0</td>\n",
              "      <td>0</td>\n",
              "      <td>0</td>\n",
              "      <td>0</td>\n",
              "    </tr>\n",
              "    <tr>\n",
              "      <th>18.0</th>\n",
              "      <td>3</td>\n",
              "      <td>0</td>\n",
              "      <td>0</td>\n",
              "      <td>0</td>\n",
              "      <td>0</td>\n",
              "      <td>0</td>\n",
              "      <td>0</td>\n",
              "      <td>0</td>\n",
              "      <td>0</td>\n",
              "      <td>0</td>\n",
              "      <td>...</td>\n",
              "      <td>0</td>\n",
              "      <td>0</td>\n",
              "      <td>0</td>\n",
              "      <td>0</td>\n",
              "      <td>0</td>\n",
              "      <td>0</td>\n",
              "      <td>0</td>\n",
              "      <td>0</td>\n",
              "      <td>0</td>\n",
              "      <td>0</td>\n",
              "    </tr>\n",
              "    <tr>\n",
              "      <th>19.0</th>\n",
              "      <td>4</td>\n",
              "      <td>0</td>\n",
              "      <td>0</td>\n",
              "      <td>0</td>\n",
              "      <td>0</td>\n",
              "      <td>0</td>\n",
              "      <td>0</td>\n",
              "      <td>0</td>\n",
              "      <td>0</td>\n",
              "      <td>0</td>\n",
              "      <td>...</td>\n",
              "      <td>0</td>\n",
              "      <td>0</td>\n",
              "      <td>0</td>\n",
              "      <td>0</td>\n",
              "      <td>0</td>\n",
              "      <td>0</td>\n",
              "      <td>0</td>\n",
              "      <td>0</td>\n",
              "      <td>0</td>\n",
              "      <td>0</td>\n",
              "    </tr>\n",
              "    <tr>\n",
              "      <th>20.0</th>\n",
              "      <td>2</td>\n",
              "      <td>0</td>\n",
              "      <td>0</td>\n",
              "      <td>0</td>\n",
              "      <td>0</td>\n",
              "      <td>0</td>\n",
              "      <td>0</td>\n",
              "      <td>0</td>\n",
              "      <td>0</td>\n",
              "      <td>0</td>\n",
              "      <td>...</td>\n",
              "      <td>0</td>\n",
              "      <td>0</td>\n",
              "      <td>0</td>\n",
              "      <td>0</td>\n",
              "      <td>0</td>\n",
              "      <td>0</td>\n",
              "      <td>0</td>\n",
              "      <td>0</td>\n",
              "      <td>0</td>\n",
              "      <td>0</td>\n",
              "    </tr>\n",
              "    <tr>\n",
              "      <th>21.0</th>\n",
              "      <td>5</td>\n",
              "      <td>0</td>\n",
              "      <td>0</td>\n",
              "      <td>0</td>\n",
              "      <td>0</td>\n",
              "      <td>0</td>\n",
              "      <td>0</td>\n",
              "      <td>0</td>\n",
              "      <td>0</td>\n",
              "      <td>0</td>\n",
              "      <td>...</td>\n",
              "      <td>0</td>\n",
              "      <td>0</td>\n",
              "      <td>0</td>\n",
              "      <td>0</td>\n",
              "      <td>0</td>\n",
              "      <td>0</td>\n",
              "      <td>0</td>\n",
              "      <td>0</td>\n",
              "      <td>0</td>\n",
              "      <td>0</td>\n",
              "    </tr>\n",
              "  </tbody>\n",
              "</table>\n",
              "<p>22 rows × 22 columns</p>\n",
              "</div>\n",
              "      <button class=\"colab-df-convert\" onclick=\"convertToInteractive('df-03c808a2-f3fc-4c73-84ea-558f5960072b')\"\n",
              "              title=\"Convert this dataframe to an interactive table.\"\n",
              "              style=\"display:none;\">\n",
              "        \n",
              "  <svg xmlns=\"http://www.w3.org/2000/svg\" height=\"24px\"viewBox=\"0 0 24 24\"\n",
              "       width=\"24px\">\n",
              "    <path d=\"M0 0h24v24H0V0z\" fill=\"none\"/>\n",
              "    <path d=\"M18.56 5.44l.94 2.06.94-2.06 2.06-.94-2.06-.94-.94-2.06-.94 2.06-2.06.94zm-11 1L8.5 8.5l.94-2.06 2.06-.94-2.06-.94L8.5 2.5l-.94 2.06-2.06.94zm10 10l.94 2.06.94-2.06 2.06-.94-2.06-.94-.94-2.06-.94 2.06-2.06.94z\"/><path d=\"M17.41 7.96l-1.37-1.37c-.4-.4-.92-.59-1.43-.59-.52 0-1.04.2-1.43.59L10.3 9.45l-7.72 7.72c-.78.78-.78 2.05 0 2.83L4 21.41c.39.39.9.59 1.41.59.51 0 1.02-.2 1.41-.59l7.78-7.78 2.81-2.81c.8-.78.8-2.07 0-2.86zM5.41 20L4 18.59l7.72-7.72 1.47 1.35L5.41 20z\"/>\n",
              "  </svg>\n",
              "      </button>\n",
              "      \n",
              "  <style>\n",
              "    .colab-df-container {\n",
              "      display:flex;\n",
              "      flex-wrap:wrap;\n",
              "      gap: 12px;\n",
              "    }\n",
              "\n",
              "    .colab-df-convert {\n",
              "      background-color: #E8F0FE;\n",
              "      border: none;\n",
              "      border-radius: 50%;\n",
              "      cursor: pointer;\n",
              "      display: none;\n",
              "      fill: #1967D2;\n",
              "      height: 32px;\n",
              "      padding: 0 0 0 0;\n",
              "      width: 32px;\n",
              "    }\n",
              "\n",
              "    .colab-df-convert:hover {\n",
              "      background-color: #E2EBFA;\n",
              "      box-shadow: 0px 1px 2px rgba(60, 64, 67, 0.3), 0px 1px 3px 1px rgba(60, 64, 67, 0.15);\n",
              "      fill: #174EA6;\n",
              "    }\n",
              "\n",
              "    [theme=dark] .colab-df-convert {\n",
              "      background-color: #3B4455;\n",
              "      fill: #D2E3FC;\n",
              "    }\n",
              "\n",
              "    [theme=dark] .colab-df-convert:hover {\n",
              "      background-color: #434B5C;\n",
              "      box-shadow: 0px 1px 3px 1px rgba(0, 0, 0, 0.15);\n",
              "      filter: drop-shadow(0px 1px 2px rgba(0, 0, 0, 0.3));\n",
              "      fill: #FFFFFF;\n",
              "    }\n",
              "  </style>\n",
              "\n",
              "      <script>\n",
              "        const buttonEl =\n",
              "          document.querySelector('#df-03c808a2-f3fc-4c73-84ea-558f5960072b button.colab-df-convert');\n",
              "        buttonEl.style.display =\n",
              "          google.colab.kernel.accessAllowed ? 'block' : 'none';\n",
              "\n",
              "        async function convertToInteractive(key) {\n",
              "          const element = document.querySelector('#df-03c808a2-f3fc-4c73-84ea-558f5960072b');\n",
              "          const dataTable =\n",
              "            await google.colab.kernel.invokeFunction('convertToInteractive',\n",
              "                                                     [key], {});\n",
              "          if (!dataTable) return;\n",
              "\n",
              "          const docLinkHtml = 'Like what you see? Visit the ' +\n",
              "            '<a target=\"_blank\" href=https://colab.research.google.com/notebooks/data_table.ipynb>data table notebook</a>'\n",
              "            + ' to learn more about interactive tables.';\n",
              "          element.innerHTML = '';\n",
              "          dataTable['output_type'] = 'display_data';\n",
              "          await google.colab.output.renderOutput(dataTable, element);\n",
              "          const docLink = document.createElement('div');\n",
              "          docLink.innerHTML = docLinkHtml;\n",
              "          element.appendChild(docLink);\n",
              "        }\n",
              "      </script>\n",
              "    </div>\n",
              "  </div>\n",
              "  "
            ]
          },
          "metadata": {},
          "execution_count": 21
        }
      ]
    },
    {
      "cell_type": "markdown",
      "source": [
        " 435 families with no family head."
      ],
      "metadata": {
        "id": "vF_ZxwKVxLuF"
      }
    },
    {
      "cell_type": "code",
      "source": [
        ""
      ],
      "metadata": {
        "id": "AywYcXOExSXi"
      },
      "execution_count": null,
      "outputs": []
    },
    {
      "cell_type": "markdown",
      "source": [
        "### finding the null values"
      ],
      "metadata": {
        "id": "DPgW3fcBxp9D"
      }
    },
    {
      "cell_type": "code",
      "source": [
        "for i in df_train:\n",
        "  v=df_train[i].isnull().sum()\n",
        "  if v>0:\n",
        "    print(\"Column Name: \",i, \", Null Values for this column: \",v,\", Percentage of Null values: \",df_train[i].isnull().sum()/len(df_train)*100)"
      ],
      "metadata": {
        "colab": {
          "base_uri": "https://localhost:8080/"
        },
        "id": "n2qS0ZBOxzX6",
        "outputId": "1d124dca-52cb-491b-b374-b36438ec146d"
      },
      "execution_count": 22,
      "outputs": [
        {
          "output_type": "stream",
          "name": "stdout",
          "text": [
            "Column Name:  v2a1 , Null Values for this column:  6860 , Percentage of Null values:  71.7798472323951\n",
            "Column Name:  v18q1 , Null Values for this column:  7342 , Percentage of Null values:  76.82327090091033\n",
            "Column Name:  rez_esc , Null Values for this column:  7928 , Percentage of Null values:  82.95490216595167\n",
            "Column Name:  meaneduc , Null Values for this column:  5 , Percentage of Null values:  0.05231767290990897\n",
            "Column Name:  SQBmeaned , Null Values for this column:  5 , Percentage of Null values:  0.05231767290990897\n"
          ]
        }
      ]
    },
    {
      "cell_type": "code",
      "source": [
        "df_train[\"v2a1\"].describe()"
      ],
      "metadata": {
        "colab": {
          "base_uri": "https://localhost:8080/"
        },
        "id": "fwEzI6QQzgTo",
        "outputId": "099cbb9d-2818-475f-f5d2-41612a91d596"
      },
      "execution_count": 23,
      "outputs": [
        {
          "output_type": "execute_result",
          "data": {
            "text/plain": [
              "count    2.697000e+03\n",
              "mean     1.652316e+05\n",
              "std      1.504571e+05\n",
              "min      0.000000e+00\n",
              "25%      8.000000e+04\n",
              "50%      1.300000e+05\n",
              "75%      2.000000e+05\n",
              "max      2.353477e+06\n",
              "Name: v2a1, dtype: float64"
            ]
          },
          "metadata": {},
          "execution_count": 23
        }
      ]
    },
    {
      "cell_type": "markdown",
      "source": [
        "  'v2a1', 'v18q1', 'rez_esc' have more than 50% null values, because for v18q1, there are families with their own house so they won't pay rent in that case it should be 0"
      ],
      "metadata": {
        "id": "iSCDaWd11uLk"
      }
    },
    {
      "cell_type": "code",
      "source": [
        "#filling the missing value fo both train and test datasets using fillna()\n",
        "df_train['v2a1']=df_train['v2a1'].fillna(0)\n",
        "df_train['v18q1']=df_train['v18q1'].fillna(0)\n",
        "df_test['v2a1']=df_test['v2a1'].fillna(0)\n",
        "df_test['v18q1']=df_test['v18q1'].fillna(0)"
      ],
      "metadata": {
        "id": "3Cu-BWev198v"
      },
      "execution_count": 24,
      "outputs": []
    },
    {
      "cell_type": "code",
      "source": [
        "df_train=df_train.drop(['tipovivi3', 'v18q','rez_esc'],axis=1)\n",
        "df_test=df_test.drop(['tipovivi3', 'v18q','rez_esc'],axis=1)"
      ],
      "metadata": {
        "id": "m_EDfeP33SR8"
      },
      "execution_count": 25,
      "outputs": []
    },
    {
      "cell_type": "code",
      "source": [
        "# fillna() using np.mean on train and test \n",
        "df_train['meaneduc']=df_train['meaneduc'].fillna(np.mean(df_train['meaneduc']))\n",
        "df_train['SQBmeaned']=df_train['SQBmeaned'].fillna(np.mean(df_train['SQBmeaned']))\n",
        "df_test['meaneduc']=df_test['meaneduc'].fillna(np.mean(df_test['meaneduc']))\n",
        "df_test['SQBmeaned']=df_test['SQBmeaned'].fillna(np.mean(df_test['SQBmeaned']))"
      ],
      "metadata": {
        "id": "hpUeyiF_39Fw"
      },
      "execution_count": 26,
      "outputs": []
    },
    {
      "cell_type": "markdown",
      "source": [
        "## Set the poverty level of the members and the head of the house within a family."
      ],
      "metadata": {
        "id": "MMh3G1-B4l2v"
      }
    },
    {
      "cell_type": "markdown",
      "source": [
        "as peple below poverty level can be person paying less rent, do not own house and also depend on whether house is in rural area or urban area "
      ],
      "metadata": {
        "id": "0Aqk6vV25ZYt"
      }
    },
    {
      "cell_type": "code",
      "source": [
        "Poverty_level=df_train[df_train['v2a1'] !=0]"
      ],
      "metadata": {
        "id": "jO_viokx6Kg5"
      },
      "execution_count": 27,
      "outputs": []
    },
    {
      "cell_type": "code",
      "source": [
        "Poverty_level.shape"
      ],
      "metadata": {
        "colab": {
          "base_uri": "https://localhost:8080/"
        },
        "id": "7MiMHBc-6DtL",
        "outputId": "98ee5c4f-86d6-49db-b60f-60de8683800f"
      },
      "execution_count": 28,
      "outputs": [
        {
          "output_type": "execute_result",
          "data": {
            "text/plain": [
              "(2668, 136)"
            ]
          },
          "metadata": {},
          "execution_count": 28
        }
      ]
    },
    {
      "cell_type": "code",
      "source": [
        "# groping poverty level with area1 i,e zonal urbana and v2a1--> monthaly rented\n",
        "poverty_level=Poverty_level.groupby('area1')['v2a1'].apply(np.median)"
      ],
      "metadata": {
        "id": "ys2VSc_h41ya"
      },
      "execution_count": 29,
      "outputs": []
    },
    {
      "cell_type": "code",
      "source": [
        "poverty_level"
      ],
      "metadata": {
        "colab": {
          "base_uri": "https://localhost:8080/"
        },
        "id": "ylvBOWZI4j0f",
        "outputId": "5885609c-8670-4666-d822-734416dc699b"
      },
      "execution_count": 30,
      "outputs": [
        {
          "output_type": "execute_result",
          "data": {
            "text/plain": [
              "area1\n",
              "0     80000.0\n",
              "1    140000.0\n",
              "Name: v2a1, dtype: float64"
            ]
          },
          "metadata": {},
          "execution_count": 30
        }
      ]
    },
    {
      "cell_type": "code",
      "source": [
        "def povert(x):\n",
        "    if x<8000:\n",
        "        return('Below poverty level')\n",
        "    \n",
        "    elif x>140000:\n",
        "        return('Above poverty level')\n",
        "    elif x<140000:\n",
        "        return('Below poverty level: Ur-ban ; Above poverty level : Rural ')"
      ],
      "metadata": {
        "id": "MQOX7CF08HbQ"
      },
      "execution_count": 31,
      "outputs": []
    },
    {
      "cell_type": "code",
      "source": [
        "c=Poverty_level['v2a1'].apply(povert)"
      ],
      "metadata": {
        "id": "zwEEhxDl8PGf"
      },
      "execution_count": 32,
      "outputs": []
    },
    {
      "cell_type": "code",
      "source": [
        "c.shape"
      ],
      "metadata": {
        "colab": {
          "base_uri": "https://localhost:8080/"
        },
        "id": "o8UrLbNC8aGR",
        "outputId": "2ddfcbb3-2446-4b7b-9ac0-21038341159e"
      },
      "execution_count": 33,
      "outputs": [
        {
          "output_type": "execute_result",
          "data": {
            "text/plain": [
              "(2668,)"
            ]
          },
          "metadata": {},
          "execution_count": 33
        }
      ]
    },
    {
      "cell_type": "code",
      "source": [
        "pd.crosstab(c,Poverty_level['area1'])\n"
      ],
      "metadata": {
        "colab": {
          "base_uri": "https://localhost:8080/",
          "height": 143
        },
        "id": "9FPyw1Hb8gAZ",
        "outputId": "a048c07b-61e1-418c-fca8-75864a746613"
      },
      "execution_count": 34,
      "outputs": [
        {
          "output_type": "execute_result",
          "data": {
            "text/plain": [
              "area1                                                 0     1\n",
              "v2a1                                                         \n",
              "Above poverty level                                 139  1103\n",
              "Below poverty level: Ur-ban ; Above poverty lev...  306  1081"
            ],
            "text/html": [
              "\n",
              "  <div id=\"df-a89bd2cb-3783-4e10-a6e3-22575bbd45e2\">\n",
              "    <div class=\"colab-df-container\">\n",
              "      <div>\n",
              "<style scoped>\n",
              "    .dataframe tbody tr th:only-of-type {\n",
              "        vertical-align: middle;\n",
              "    }\n",
              "\n",
              "    .dataframe tbody tr th {\n",
              "        vertical-align: top;\n",
              "    }\n",
              "\n",
              "    .dataframe thead th {\n",
              "        text-align: right;\n",
              "    }\n",
              "</style>\n",
              "<table border=\"1\" class=\"dataframe\">\n",
              "  <thead>\n",
              "    <tr style=\"text-align: right;\">\n",
              "      <th>area1</th>\n",
              "      <th>0</th>\n",
              "      <th>1</th>\n",
              "    </tr>\n",
              "    <tr>\n",
              "      <th>v2a1</th>\n",
              "      <th></th>\n",
              "      <th></th>\n",
              "    </tr>\n",
              "  </thead>\n",
              "  <tbody>\n",
              "    <tr>\n",
              "      <th>Above poverty level</th>\n",
              "      <td>139</td>\n",
              "      <td>1103</td>\n",
              "    </tr>\n",
              "    <tr>\n",
              "      <th>Below poverty level: Ur-ban ; Above poverty level : Rural</th>\n",
              "      <td>306</td>\n",
              "      <td>1081</td>\n",
              "    </tr>\n",
              "  </tbody>\n",
              "</table>\n",
              "</div>\n",
              "      <button class=\"colab-df-convert\" onclick=\"convertToInteractive('df-a89bd2cb-3783-4e10-a6e3-22575bbd45e2')\"\n",
              "              title=\"Convert this dataframe to an interactive table.\"\n",
              "              style=\"display:none;\">\n",
              "        \n",
              "  <svg xmlns=\"http://www.w3.org/2000/svg\" height=\"24px\"viewBox=\"0 0 24 24\"\n",
              "       width=\"24px\">\n",
              "    <path d=\"M0 0h24v24H0V0z\" fill=\"none\"/>\n",
              "    <path d=\"M18.56 5.44l.94 2.06.94-2.06 2.06-.94-2.06-.94-.94-2.06-.94 2.06-2.06.94zm-11 1L8.5 8.5l.94-2.06 2.06-.94-2.06-.94L8.5 2.5l-.94 2.06-2.06.94zm10 10l.94 2.06.94-2.06 2.06-.94-2.06-.94-.94-2.06-.94 2.06-2.06.94z\"/><path d=\"M17.41 7.96l-1.37-1.37c-.4-.4-.92-.59-1.43-.59-.52 0-1.04.2-1.43.59L10.3 9.45l-7.72 7.72c-.78.78-.78 2.05 0 2.83L4 21.41c.39.39.9.59 1.41.59.51 0 1.02-.2 1.41-.59l7.78-7.78 2.81-2.81c.8-.78.8-2.07 0-2.86zM5.41 20L4 18.59l7.72-7.72 1.47 1.35L5.41 20z\"/>\n",
              "  </svg>\n",
              "      </button>\n",
              "      \n",
              "  <style>\n",
              "    .colab-df-container {\n",
              "      display:flex;\n",
              "      flex-wrap:wrap;\n",
              "      gap: 12px;\n",
              "    }\n",
              "\n",
              "    .colab-df-convert {\n",
              "      background-color: #E8F0FE;\n",
              "      border: none;\n",
              "      border-radius: 50%;\n",
              "      cursor: pointer;\n",
              "      display: none;\n",
              "      fill: #1967D2;\n",
              "      height: 32px;\n",
              "      padding: 0 0 0 0;\n",
              "      width: 32px;\n",
              "    }\n",
              "\n",
              "    .colab-df-convert:hover {\n",
              "      background-color: #E2EBFA;\n",
              "      box-shadow: 0px 1px 2px rgba(60, 64, 67, 0.3), 0px 1px 3px 1px rgba(60, 64, 67, 0.15);\n",
              "      fill: #174EA6;\n",
              "    }\n",
              "\n",
              "    [theme=dark] .colab-df-convert {\n",
              "      background-color: #3B4455;\n",
              "      fill: #D2E3FC;\n",
              "    }\n",
              "\n",
              "    [theme=dark] .colab-df-convert:hover {\n",
              "      background-color: #434B5C;\n",
              "      box-shadow: 0px 1px 3px 1px rgba(0, 0, 0, 0.15);\n",
              "      filter: drop-shadow(0px 1px 2px rgba(0, 0, 0, 0.3));\n",
              "      fill: #FFFFFF;\n",
              "    }\n",
              "  </style>\n",
              "\n",
              "      <script>\n",
              "        const buttonEl =\n",
              "          document.querySelector('#df-a89bd2cb-3783-4e10-a6e3-22575bbd45e2 button.colab-df-convert');\n",
              "        buttonEl.style.display =\n",
              "          google.colab.kernel.accessAllowed ? 'block' : 'none';\n",
              "\n",
              "        async function convertToInteractive(key) {\n",
              "          const element = document.querySelector('#df-a89bd2cb-3783-4e10-a6e3-22575bbd45e2');\n",
              "          const dataTable =\n",
              "            await google.colab.kernel.invokeFunction('convertToInteractive',\n",
              "                                                     [key], {});\n",
              "          if (!dataTable) return;\n",
              "\n",
              "          const docLinkHtml = 'Like what you see? Visit the ' +\n",
              "            '<a target=\"_blank\" href=https://colab.research.google.com/notebooks/data_table.ipynb>data table notebook</a>'\n",
              "            + ' to learn more about interactive tables.';\n",
              "          element.innerHTML = '';\n",
              "          dataTable['output_type'] = 'display_data';\n",
              "          await google.colab.output.renderOutput(dataTable, element);\n",
              "          const docLink = document.createElement('div');\n",
              "          docLink.innerHTML = docLinkHtml;\n",
              "          element.appendChild(docLink);\n",
              "        }\n",
              "      </script>\n",
              "    </div>\n",
              "  </div>\n",
              "  "
            ]
          },
          "metadata": {},
          "execution_count": 34
        }
      ]
    },
    {
      "cell_type": "markdown",
      "source": [
        "assigning x and y"
      ],
      "metadata": {
        "id": "4cfHDMwX9BCs"
      }
    },
    {
      "cell_type": "code",
      "source": [
        "x=df_train.drop('Target',axis=1)\n",
        "y=df_train.Target"
      ],
      "metadata": {
        "id": "SS0LeD9c9RkL"
      },
      "execution_count": 35,
      "outputs": []
    },
    {
      "cell_type": "code",
      "source": [
        "X_data_col=x.columns\n"
      ],
      "metadata": {
        "id": "HsCp7eeR9T_x"
      },
      "execution_count": 36,
      "outputs": []
    },
    {
      "cell_type": "markdown",
      "source": [
        "## Applying Standard Scalling to dataset"
      ],
      "metadata": {
        "id": "uvzsxGgD9qXC"
      }
    },
    {
      "cell_type": "code",
      "source": [
        "from sklearn.preprocessing import StandardScaler\n",
        "SS=StandardScaler()\n",
        "X_data_1=SS.fit_transform(x)\n",
        "X_data_1=pd.DataFrame(X_data_1,columns=X_data_col)"
      ],
      "metadata": {
        "id": "IOGBvfLa9udb"
      },
      "execution_count": 37,
      "outputs": []
    },
    {
      "cell_type": "code",
      "source": [
        "#applying train_test_split on scaled data\n",
        "from sklearn.model_selection import train_test_split"
      ],
      "metadata": {
        "id": "yUcqm5M_9908"
      },
      "execution_count": 39,
      "outputs": []
    },
    {
      "cell_type": "code",
      "source": [
        "x_train,x_test,y_train,y_test=train_test_split(X_data_1,y,test_size=0.25,stratify=y,random_state=0)"
      ],
      "metadata": {
        "id": "TNY86ebK-IvN"
      },
      "execution_count": 40,
      "outputs": []
    },
    {
      "cell_type": "markdown",
      "source": [
        "### predicting the accuracy using random forest classifier"
      ],
      "metadata": {
        "id": "I2_kvTSn-o0N"
      }
    },
    {
      "cell_type": "code",
      "source": [
        "from sklearn.ensemble import RandomForestClassifier"
      ],
      "metadata": {
        "id": "6pePwZT1-whB"
      },
      "execution_count": 41,
      "outputs": []
    },
    {
      "cell_type": "code",
      "source": [
        "from sklearn.pipeline import Pipeline\n",
        "from sklearn.model_selection import GridSearchCV"
      ],
      "metadata": {
        "id": "-RQuXqib-fGH"
      },
      "execution_count": 42,
      "outputs": []
    },
    {
      "cell_type": "code",
      "source": [
        "rfc=RandomForestClassifier(random_state=0)\n",
        "parameters={'n_estimators':[10,50,100,300],'max_depth':[3,5,10,15]}\n",
        "grid=zip([rfc],[parameters])\n",
        "\n",
        "best_=None"
      ],
      "metadata": {
        "id": "vgEUd91y_FMd"
      },
      "execution_count": 43,
      "outputs": []
    },
    {
      "cell_type": "code",
      "source": [
        "for i, j in grid:\n",
        "    a=GridSearchCV(i,param_grid=j,cv=3,n_jobs=1)\n",
        "    a.fit(x_train,y_train)\n",
        "    if best_ is None:\n",
        "        best_=a\n",
        "    elif a.best_score_>best_.best_score_:\n",
        "        best_=a\n",
        "        "
      ],
      "metadata": {
        "id": "qFXlZ6pR_MT9"
      },
      "execution_count": 44,
      "outputs": []
    },
    {
      "cell_type": "code",
      "source": [
        "print (\"Best CV Score\",best_.best_score_)\n",
        "print (\"Model Parameters\",best_.best_params_)\n",
        "print(\"Best Estimator\",best_.best_estimator_)"
      ],
      "metadata": {
        "colab": {
          "base_uri": "https://localhost:8080/"
        },
        "id": "gPrvyppv_oTF",
        "outputId": "31f63aa9-6b68-4bff-cf95-3a2617857483"
      },
      "execution_count": 45,
      "outputs": [
        {
          "output_type": "stream",
          "name": "stdout",
          "text": [
            "Best CV Score 0.8507046183898423\n",
            "Model Parameters {'max_depth': 15, 'n_estimators': 300}\n",
            "Best Estimator RandomForestClassifier(max_depth=15, n_estimators=300, random_state=0)\n"
          ]
        }
      ]
    },
    {
      "cell_type": "code",
      "source": [
        "#applying best estimators on random forest classifier\n",
        "RFC=best_.best_estimator_\n",
        "Model=RFC.fit(x_train,y_train)\n",
        "pred=Model.predict(x_test)"
      ],
      "metadata": {
        "id": "tuo9_krq_wRt"
      },
      "execution_count": 48,
      "outputs": []
    },
    {
      "cell_type": "code",
      "source": [
        "print('Model Score of train data : {}'.format(Model.score(x_train,y_train)))\n",
        "print('Model Score of test data : {}'.format(Model.score(x_test,y_test)))"
      ],
      "metadata": {
        "colab": {
          "base_uri": "https://localhost:8080/"
        },
        "id": "SOeeCckr_25J",
        "outputId": "3336dc62-6c1d-4f39-a259-d81a0beae491"
      },
      "execution_count": 47,
      "outputs": [
        {
          "output_type": "stream",
          "name": "stdout",
          "text": [
            "Model Score of train data : 0.9831170643225896\n",
            "Model Score of test data : 0.8824267782426778\n"
          ]
        }
      ]
    },
    {
      "cell_type": "code",
      "source": [
        "Important_features=pd.DataFrame(Model.feature_importances_,X_data_col,columns=['feature_importance'])\n"
      ],
      "metadata": {
        "id": "QLyA21H_AoCZ"
      },
      "execution_count": 49,
      "outputs": []
    },
    {
      "cell_type": "code",
      "source": [
        "Top50Features=Important_features.sort_values(by='feature_importance',ascending=False).head(50).index"
      ],
      "metadata": {
        "id": "uxJBrXj1Axet"
      },
      "execution_count": 50,
      "outputs": []
    },
    {
      "cell_type": "code",
      "source": [
        "Top50Features"
      ],
      "metadata": {
        "colab": {
          "base_uri": "https://localhost:8080/"
        },
        "id": "GbMRZ_T3A1GB",
        "outputId": "f1896e20-4551-4604-c421-dd60e895fb18"
      },
      "execution_count": 51,
      "outputs": [
        {
          "output_type": "execute_result",
          "data": {
            "text/plain": [
              "Index(['SQBmeaned', 'meaneduc', 'SQBdependency', 'dependency', 'overcrowding',\n",
              "       'SQBovercrowding', 'qmobilephone', 'SQBhogar_nin', 'SQBedjefe',\n",
              "       'edjefe', 'hogar_nin', 'rooms', 'cielorazo', 'r4t1', 'v2a1', 'edjefa',\n",
              "       'agesq', 'r4m3', 'r4h2', 'SQBage', 'age', 'escolari', 'r4t2', 'r4h3',\n",
              "       'hogar_adul', 'SQBescolari', 'eviv3', 'bedrooms', 'r4m1', 'epared3',\n",
              "       'r4m2', 'tamviv', 'paredblolad', 'v18q1', 'SQBhogar_total', 'tamhog',\n",
              "       'hhsize', 'hogar_total', 'pisomoscer', 'etecho3', 'r4h1', 'lugar1',\n",
              "       'eviv2', 'tipovivi1', 'energcocinar2', 'energcocinar3', 'epared2',\n",
              "       'television', 'area2', 'area1'],\n",
              "      dtype='object')"
            ]
          },
          "metadata": {},
          "execution_count": 51
        }
      ]
    },
    {
      "cell_type": "code",
      "source": [
        "for i in Top50Features:\n",
        "    if i not in X_data_col:\n",
        "        print(i)"
      ],
      "metadata": {
        "id": "djFvfOmNA1X3"
      },
      "execution_count": 52,
      "outputs": []
    },
    {
      "cell_type": "code",
      "source": [
        "X_data_Top50=x[Top50Features]"
      ],
      "metadata": {
        "id": "k19I8V7nA_Cx"
      },
      "execution_count": 53,
      "outputs": []
    },
    {
      "cell_type": "code",
      "source": [
        "# applying train_test_split on top 50 features to reduce overfitting\n",
        "x_train,x_test,y_train,y_test=train_test_split(X_data_Top50,y,test_size=0.25,stratify=y,random_state=0)"
      ],
      "metadata": {
        "id": "w9yvpppZBEnS"
      },
      "execution_count": 54,
      "outputs": []
    },
    {
      "cell_type": "code",
      "source": [
        "# fitting x_train, y_train on random forest classifier\n",
        "Model_1=RFC.fit(x_train,y_train)\n",
        "pred=Model_1.predict(x_test)"
      ],
      "metadata": {
        "id": "B124jLbBBkU2"
      },
      "execution_count": 55,
      "outputs": []
    },
    {
      "cell_type": "code",
      "source": [
        "# inporting confusion_matrix, f1_score and accuracy_score\n",
        "from sklearn.metrics import confusion_matrix,f1_score,accuracy_score"
      ],
      "metadata": {
        "id": "dCJfDOZQBxLa"
      },
      "execution_count": 57,
      "outputs": []
    },
    {
      "cell_type": "code",
      "source": [
        "confusion_matrix(y_test,pred)"
      ],
      "metadata": {
        "colab": {
          "base_uri": "https://localhost:8080/"
        },
        "id": "HsxaKp9RCHWo",
        "outputId": "8696ba92-8818-418a-a9d5-e647fdf53d5c"
      },
      "execution_count": 58,
      "outputs": [
        {
          "output_type": "execute_result",
          "data": {
            "text/plain": [
              "array([[ 143,   17,    0,   29],\n",
              "       [   8,  324,    4,   63],\n",
              "       [   1,   12,  214,   75],\n",
              "       [   2,   10,    3, 1485]])"
            ]
          },
          "metadata": {},
          "execution_count": 58
        }
      ]
    },
    {
      "cell_type": "code",
      "source": [
        "f1_score(y_test,pred,average='weighted')"
      ],
      "metadata": {
        "colab": {
          "base_uri": "https://localhost:8080/"
        },
        "id": "02osT38LCNC2",
        "outputId": "4ebcee5a-17c1-4fce-a1bc-85f55344ece6"
      },
      "execution_count": 59,
      "outputs": [
        {
          "output_type": "execute_result",
          "data": {
            "text/plain": [
              "0.9026906492316511"
            ]
          },
          "metadata": {},
          "execution_count": 59
        }
      ]
    },
    {
      "cell_type": "code",
      "source": [
        "accuracy_score(y_test,pred)"
      ],
      "metadata": {
        "colab": {
          "base_uri": "https://localhost:8080/"
        },
        "id": "SuA4tuN0CSGX",
        "outputId": "05ced108-654e-4980-d401-7ec59735a39c"
      },
      "execution_count": 60,
      "outputs": [
        {
          "output_type": "execute_result",
          "data": {
            "text/plain": [
              "0.906276150627615"
            ]
          },
          "metadata": {},
          "execution_count": 60
        }
      ]
    },
    {
      "cell_type": "code",
      "source": [
        "df_test['dependency']=df_test['dependency'].apply(map)"
      ],
      "metadata": {
        "id": "tQEZJgo1CYux"
      },
      "execution_count": 61,
      "outputs": []
    },
    {
      "cell_type": "code",
      "source": [
        "df_test['edjefe']=df_test['edjefe'].apply(map)\n",
        "df_test['edjefa']=df_test['edjefa'].apply(map)"
      ],
      "metadata": {
        "id": "NDJu3sHMCcfp"
      },
      "execution_count": 62,
      "outputs": []
    },
    {
      "cell_type": "code",
      "source": [
        "test_data=df_test[Top50Features]"
      ],
      "metadata": {
        "id": "jWuaCai3Cgvl"
      },
      "execution_count": 63,
      "outputs": []
    },
    {
      "cell_type": "code",
      "source": [
        "test_data.isna().sum().value_counts()"
      ],
      "metadata": {
        "colab": {
          "base_uri": "https://localhost:8080/"
        },
        "id": "JdgNsG2hCojJ",
        "outputId": "c7b3fcb9-b30b-448b-d564-a1e8361c34e8"
      },
      "execution_count": 64,
      "outputs": [
        {
          "output_type": "execute_result",
          "data": {
            "text/plain": [
              "0    50\n",
              "dtype: int64"
            ]
          },
          "metadata": {},
          "execution_count": 64
        }
      ]
    },
    {
      "cell_type": "code",
      "source": [
        "# scaling test data by standard scaling\n",
        "Test_data_1=SS.fit_transform(test_data)\n"
      ],
      "metadata": {
        "id": "x3ytyL-BCtNp"
      },
      "execution_count": 66,
      "outputs": []
    },
    {
      "cell_type": "code",
      "source": [
        "X_data_1=pd.DataFrame(Test_data_1)"
      ],
      "metadata": {
        "id": "kNGGtevvDH2q"
      },
      "execution_count": 67,
      "outputs": []
    },
    {
      "cell_type": "code",
      "source": [
        "test_prediction=Model_1.predict(test_data)"
      ],
      "metadata": {
        "id": "2NyVIGz1DNLx"
      },
      "execution_count": 68,
      "outputs": []
    },
    {
      "cell_type": "code",
      "source": [
        "test_prediction"
      ],
      "metadata": {
        "colab": {
          "base_uri": "https://localhost:8080/"
        },
        "id": "GC9w58J_DSD_",
        "outputId": "f7f63493-eb85-45d8-ab3d-5179a986a843"
      },
      "execution_count": 69,
      "outputs": [
        {
          "output_type": "execute_result",
          "data": {
            "text/plain": [
              "array([4, 4, 4, ..., 4, 4, 4])"
            ]
          },
          "metadata": {},
          "execution_count": 69
        }
      ]
    },
    {
      "cell_type": "markdown",
      "source": [
        "using random forest classifier test data is predicted with the accuracy of **90**%"
      ],
      "metadata": {
        "id": "6v_VkNoXDrdt"
      }
    }
  ]
}